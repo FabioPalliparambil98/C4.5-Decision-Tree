{
 "cells": [
  {
   "cell_type": "code",
   "execution_count": 1,
   "metadata": {},
   "outputs": [],
   "source": [
    "import numpy as np\n",
    "import pandas as pd\n",
    "from sklearn import metrics\n",
    "from sklearn.metrics import accuracy_score\n",
    "from sklearn.model_selection import train_test_split\n",
    "import dt_classifier"
   ]
  },
  {
   "cell_type": "code",
   "execution_count": 2,
   "metadata": {},
   "outputs": [],
   "source": [
    "#header\n",
    "head = ['Age','Gender' ,'Chest_pain_type' , 'Resting blood pressure' ,'Serum cholesterol' ,'Fasting blood sugar' ,'Resting electrocardiographics' ,'Maximum heart rate' ,'Exercise induced angina' ,'ST depression','ST Segments','Major','Thal','class' ]\n",
    "#reading the csv file. \n",
    "data = pd.read_csv(\"heart-disease.csv\", names=head)\n",
    "#convert all the non values to something.\n",
    "data = data.replace('?', np.nan)\n",
    "#Converting the data types to float.\n",
    "data = data.astype(float)\n",
    "# #data modified with median and filled in appropriatly.\n",
    "data = data.fillna(data.median())\n",
    " \n",
    "x = data[head].iloc[:,:len(data.columns)-1]\n",
    "y = data['class']"
   ]
  },
  {
   "cell_type": "code",
   "execution_count": 3,
   "metadata": {
    "scrolled": true
   },
   "outputs": [
    {
     "name": "stderr",
     "output_type": "stream",
     "text": [
      "C:\\Users\\fabio\\Anaconda3\\lib\\site-packages\\scipy\\stats\\_distn_infrastructure.py:2544: RuntimeWarning: invalid value encountered in true_divide\n",
      "  pk = 1.0*pk / np.sum(pk, axis=0)\n"
     ]
    },
    {
     "name": "stdout",
     "output_type": "stream",
     "text": [
      "Accuracy 0.8007246376811594\n"
     ]
    }
   ],
   "source": [
    "\n",
    "X_train, X_test, y_train, y_test = train_test_split(x,y, test_size=0.3, random_state=None)\n",
    "#Discrete Feature is needed while runnning The c4.5 Algorithm    \n",
    "discrete_features = [False,True,True,False,False,True,True,False,True,False,True,True,True]\n",
    "data = data.to_numpy()\n",
    "model = dt_classifier.C45(discrete_features = discrete_features ,depth =10)\n",
    "model = model.fit(data)\n",
    "y_pred = model.predict(X_test.to_numpy())\n",
    "print(\"Accuracy\", metrics.accuracy_score(y_test, y_pred))"
   ]
  }
 ],
 "metadata": {
  "kernelspec": {
   "display_name": "Python 3",
   "language": "python",
   "name": "python3"
  },
  "language_info": {
   "codemirror_mode": {
    "name": "ipython",
    "version": 3
   },
   "file_extension": ".py",
   "mimetype": "text/x-python",
   "name": "python",
   "nbconvert_exporter": "python",
   "pygments_lexer": "ipython3",
   "version": "3.7.3"
  }
 },
 "nbformat": 4,
 "nbformat_minor": 2
}
